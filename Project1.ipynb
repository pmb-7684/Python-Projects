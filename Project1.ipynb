{
 "cells": [
  {
   "cell_type": "markdown",
   "id": "d5984d8b-8367-4834-85f7-935567396b03",
   "metadata": {},
   "source": [
    "# Project 1  \n"
   ]
  },
  {
   "cell_type": "markdown",
   "id": "612ef17d-bc06-4bb6-93e8-56d391bff64c",
   "metadata": {},
   "source": [
    "## Introduction \n",
    "*Note: I selected this data set from Kaggle to practice exploring data using python.*\n",
    "\n",
    "The purpose of our report is to define an algorithm that allows us to predict the selling price of a used car.  The algorithm we are using is Gradient Descent Method.  We create the formula using python and predicted the estimated an used cars resale value based kilometers driven at 10, 15, and 35.\n",
    "\n",
    "We worked with a [Kaggle](https://www.kaggle.com/nehalbirla/vehicle-dataset-from-cardekho) data set about used cars sales. We provided a snippet of the data set. "
   ]
  },
  {
   "cell_type": "code",
   "execution_count": 1,
   "id": "2d1f37a5-4cb5-468f-a449-a3586f766165",
   "metadata": {},
   "outputs": [
    {
     "data": {
      "text/html": [
       "<div>\n",
       "<style scoped>\n",
       "    .dataframe tbody tr th:only-of-type {\n",
       "        vertical-align: middle;\n",
       "    }\n",
       "\n",
       "    .dataframe tbody tr th {\n",
       "        vertical-align: top;\n",
       "    }\n",
       "\n",
       "    .dataframe thead th {\n",
       "        text-align: right;\n",
       "    }\n",
       "</style>\n",
       "<table border=\"1\" class=\"dataframe\">\n",
       "  <thead>\n",
       "    <tr style=\"text-align: right;\">\n",
       "      <th></th>\n",
       "      <th>Car_Name</th>\n",
       "      <th>Year</th>\n",
       "      <th>Selling_Price</th>\n",
       "      <th>Present_Price</th>\n",
       "      <th>Kms_Driven</th>\n",
       "      <th>Fuel_Type</th>\n",
       "      <th>Seller_Type</th>\n",
       "      <th>Transmission</th>\n",
       "      <th>Owner</th>\n",
       "    </tr>\n",
       "  </thead>\n",
       "  <tbody>\n",
       "    <tr>\n",
       "      <th>0</th>\n",
       "      <td>ritz</td>\n",
       "      <td>2014</td>\n",
       "      <td>3.35</td>\n",
       "      <td>5.59</td>\n",
       "      <td>27000</td>\n",
       "      <td>Petrol</td>\n",
       "      <td>Dealer</td>\n",
       "      <td>Manual</td>\n",
       "      <td>0</td>\n",
       "    </tr>\n",
       "    <tr>\n",
       "      <th>1</th>\n",
       "      <td>sx4</td>\n",
       "      <td>2013</td>\n",
       "      <td>4.75</td>\n",
       "      <td>9.54</td>\n",
       "      <td>43000</td>\n",
       "      <td>Diesel</td>\n",
       "      <td>Dealer</td>\n",
       "      <td>Manual</td>\n",
       "      <td>0</td>\n",
       "    </tr>\n",
       "    <tr>\n",
       "      <th>2</th>\n",
       "      <td>ciaz</td>\n",
       "      <td>2017</td>\n",
       "      <td>7.25</td>\n",
       "      <td>9.85</td>\n",
       "      <td>6900</td>\n",
       "      <td>Petrol</td>\n",
       "      <td>Dealer</td>\n",
       "      <td>Manual</td>\n",
       "      <td>0</td>\n",
       "    </tr>\n",
       "    <tr>\n",
       "      <th>3</th>\n",
       "      <td>wagon r</td>\n",
       "      <td>2011</td>\n",
       "      <td>2.85</td>\n",
       "      <td>4.15</td>\n",
       "      <td>5200</td>\n",
       "      <td>Petrol</td>\n",
       "      <td>Dealer</td>\n",
       "      <td>Manual</td>\n",
       "      <td>0</td>\n",
       "    </tr>\n",
       "    <tr>\n",
       "      <th>4</th>\n",
       "      <td>swift</td>\n",
       "      <td>2014</td>\n",
       "      <td>4.60</td>\n",
       "      <td>6.87</td>\n",
       "      <td>42450</td>\n",
       "      <td>Diesel</td>\n",
       "      <td>Dealer</td>\n",
       "      <td>Manual</td>\n",
       "      <td>0</td>\n",
       "    </tr>\n",
       "  </tbody>\n",
       "</table>\n",
       "</div>"
      ],
      "text/plain": [
       "  Car_Name  Year  Selling_Price  Present_Price  Kms_Driven Fuel_Type  \\\n",
       "0     ritz  2014           3.35           5.59       27000    Petrol   \n",
       "1      sx4  2013           4.75           9.54       43000    Diesel   \n",
       "2     ciaz  2017           7.25           9.85        6900    Petrol   \n",
       "3  wagon r  2011           2.85           4.15        5200    Petrol   \n",
       "4    swift  2014           4.60           6.87       42450    Diesel   \n",
       "\n",
       "  Seller_Type Transmission  Owner  \n",
       "0      Dealer       Manual      0  \n",
       "1      Dealer       Manual      0  \n",
       "2      Dealer       Manual      0  \n",
       "3      Dealer       Manual      0  \n",
       "4      Dealer       Manual      0  "
      ]
     },
     "execution_count": 1,
     "metadata": {},
     "output_type": "execute_result"
    }
   ],
   "source": [
    "import pandas as pd\n",
    "import numpy as np\n",
    "import math\n",
    "\n",
    "cars = pd.read_csv(\"car data.csv\")\n",
    "cars.head()"
   ]
  },
  {
   "cell_type": "markdown",
   "id": "eca7d9a1-a1b9-4505-8e9a-84424fd53e31",
   "metadata": {},
   "source": [
    "Packages we used include:  \n",
    "- [Pandas](https://pandas.pydata.org/docs/)  \n",
    "    `Pandas` (`pd`) is a python library used for working with data sets.  It is mainly used for analyzing, manipulating, and visualizing data sets.\n",
    "- [Matplotlib](https://matplotlib.org/)  \n",
    "    `Matplotlib` is a python library used for data visualization and graphical plotting of data.\n",
    "- [Numpy](https://numpy.org/doc/stable/index.html)  \n",
    "    `Numpy` (`np`)is a python library used for scientific computing for multidimensional arrays.  It also includes mathematical logic, shape manipulation, sorting, basic statistical operations, etc.\n",
    "- [Math](https://docs.python.org/3/library/math.html)  \n",
    "    `Math` is a module used for performing math functions on integers or real type objects."
   ]
  },
  {
   "cell_type": "markdown",
   "id": "463f9371-b68d-45ee-812b-4e9e1e28a5be",
   "metadata": {},
   "source": [
    "## Exploratory Data Analysis"
   ]
  },
  {
   "cell_type": "markdown",
   "id": "30d2e86d-0944-4fc9-87b6-0284ba929c97",
   "metadata": {},
   "source": [
    "First we looked at what type of data we had in the used cars dataset. Specifically, we looked to see if we needed to change any variables to a more properly fitted type. "
   ]
  },
  {
   "cell_type": "code",
   "execution_count": 2,
   "id": "707270f0-8414-44a4-9681-91a1fccf6a1c",
   "metadata": {},
   "outputs": [
    {
     "name": "stdout",
     "output_type": "stream",
     "text": [
      "<class 'pandas.core.frame.DataFrame'>\n",
      "RangeIndex: 301 entries, 0 to 300\n",
      "Data columns (total 9 columns):\n",
      " #   Column         Non-Null Count  Dtype  \n",
      "---  ------         --------------  -----  \n",
      " 0   Car_Name       301 non-null    object \n",
      " 1   Year           301 non-null    int64  \n",
      " 2   Selling_Price  301 non-null    float64\n",
      " 3   Present_Price  301 non-null    float64\n",
      " 4   Kms_Driven     301 non-null    int64  \n",
      " 5   Fuel_Type      301 non-null    object \n",
      " 6   Seller_Type    301 non-null    object \n",
      " 7   Transmission   301 non-null    object \n",
      " 8   Owner          301 non-null    int64  \n",
      "dtypes: float64(2), int64(3), object(4)\n",
      "memory usage: 21.3+ KB\n"
     ]
    }
   ],
   "source": [
    "cars.info()"
   ]
  },
  {
   "cell_type": "markdown",
   "id": "f189020d-7eba-4a36-8e6d-f7ffc6bfddc3",
   "metadata": {},
   "source": [
    "It looks like the variables for seller type, fuel type, transmission, and for Owner are objects, but would work better as categorical variables, so we changed those. "
   ]
  },
  {
   "cell_type": "code",
   "execution_count": 3,
   "id": "68b9c8cf-7b99-4529-8b95-70d3004a11e2",
   "metadata": {},
   "outputs": [
    {
     "name": "stdout",
     "output_type": "stream",
     "text": [
      "<class 'pandas.core.frame.DataFrame'>\n",
      "RangeIndex: 301 entries, 0 to 300\n",
      "Data columns (total 9 columns):\n",
      " #   Column         Non-Null Count  Dtype   \n",
      "---  ------         --------------  -----   \n",
      " 0   Car_Name       301 non-null    object  \n",
      " 1   Year           301 non-null    int64   \n",
      " 2   Selling_Price  301 non-null    float64 \n",
      " 3   Present_Price  301 non-null    float64 \n",
      " 4   Kms_Driven     301 non-null    int64   \n",
      " 5   Fuel_Type      301 non-null    category\n",
      " 6   Seller_Type    301 non-null    category\n",
      " 7   Transmission   301 non-null    category\n",
      " 8   Owner          301 non-null    category\n",
      "dtypes: category(4), float64(2), int64(2), object(1)\n",
      "memory usage: 13.6+ KB\n"
     ]
    }
   ],
   "source": [
    "cars[[\"Seller_Type\", \"Owner\", \"Fuel_Type\", \"Transmission\"]] = \\\n",
    "  cars[[\"Seller_Type\", \"Owner\", \"Fuel_Type\", \"Transmission\"]] \\\n",
    "  .apply(lambda x:x.astype(\"category\"))\n",
    "\n",
    "cars.info()"
   ]
  },
  {
   "cell_type": "markdown",
   "id": "680d9585-ec30-4875-a2f9-6d27be24c19b",
   "metadata": {},
   "source": [
    "We first looked at the numeric variables. We made a correlation matrix to see how each of them generally impacted the selling price. "
   ]
  },
  {
   "cell_type": "code",
   "execution_count": 4,
   "id": "3d7713a1-141a-4095-9424-3910573867c9",
   "metadata": {},
   "outputs": [
    {
     "data": {
      "text/html": [
       "<div>\n",
       "<style scoped>\n",
       "    .dataframe tbody tr th:only-of-type {\n",
       "        vertical-align: middle;\n",
       "    }\n",
       "\n",
       "    .dataframe tbody tr th {\n",
       "        vertical-align: top;\n",
       "    }\n",
       "\n",
       "    .dataframe thead th {\n",
       "        text-align: right;\n",
       "    }\n",
       "</style>\n",
       "<table border=\"1\" class=\"dataframe\">\n",
       "  <thead>\n",
       "    <tr style=\"text-align: right;\">\n",
       "      <th></th>\n",
       "      <th>Selling_Price</th>\n",
       "      <th>Year</th>\n",
       "      <th>Kms_Driven</th>\n",
       "      <th>Present_Price</th>\n",
       "    </tr>\n",
       "  </thead>\n",
       "  <tbody>\n",
       "    <tr>\n",
       "      <th>Selling_Price</th>\n",
       "      <td>1.000000</td>\n",
       "      <td>0.236141</td>\n",
       "      <td>0.029187</td>\n",
       "      <td>0.878983</td>\n",
       "    </tr>\n",
       "    <tr>\n",
       "      <th>Year</th>\n",
       "      <td>0.236141</td>\n",
       "      <td>1.000000</td>\n",
       "      <td>-0.524342</td>\n",
       "      <td>-0.047584</td>\n",
       "    </tr>\n",
       "    <tr>\n",
       "      <th>Kms_Driven</th>\n",
       "      <td>0.029187</td>\n",
       "      <td>-0.524342</td>\n",
       "      <td>1.000000</td>\n",
       "      <td>0.203647</td>\n",
       "    </tr>\n",
       "    <tr>\n",
       "      <th>Present_Price</th>\n",
       "      <td>0.878983</td>\n",
       "      <td>-0.047584</td>\n",
       "      <td>0.203647</td>\n",
       "      <td>1.000000</td>\n",
       "    </tr>\n",
       "  </tbody>\n",
       "</table>\n",
       "</div>"
      ],
      "text/plain": [
       "               Selling_Price      Year  Kms_Driven  Present_Price\n",
       "Selling_Price       1.000000  0.236141    0.029187       0.878983\n",
       "Year                0.236141  1.000000   -0.524342      -0.047584\n",
       "Kms_Driven          0.029187 -0.524342    1.000000       0.203647\n",
       "Present_Price       0.878983 -0.047584    0.203647       1.000000"
      ]
     },
     "execution_count": 4,
     "metadata": {},
     "output_type": "execute_result"
    }
   ],
   "source": [
    "cars[[\"Selling_Price\", \"Year\", \"Kms_Driven\", \"Present_Price\", ]].corr()"
   ]
  },
  {
   "cell_type": "markdown",
   "id": "ac08ef93-ddc5-479d-b57d-ad93a3c1dfb5",
   "metadata": {},
   "source": [
    "The present price, which can be defined as the showroom price, is a significant determinant of the selling price. This relationship has a positive correlation.  It is expected that year would have an slightly negative impact on the showroom price (present price).  However, this is not the case for the selling price. From the correlation, you would expect there to be an increase in the car's value as it gets older. "
   ]
  },
  {
   "cell_type": "markdown",
   "id": "e618b45b-c091-4426-ba3f-8c8cea7086ee",
   "metadata": {},
   "source": [
    "Then we began to explore how the categorical variables affected selling price.  \n",
    "\n",
    "We looked at the mean selling price (a measure of center) for each type of seller (dealer  or individual) to see confirm our assumption that a dealer would have a higher selling price: "
   ]
  },
  {
   "cell_type": "code",
   "execution_count": 5,
   "id": "7ae31a8c-60ee-484a-bf58-047336e0d369",
   "metadata": {},
   "outputs": [
    {
     "data": {
      "text/html": [
       "<div>\n",
       "<style scoped>\n",
       "    .dataframe tbody tr th:only-of-type {\n",
       "        vertical-align: middle;\n",
       "    }\n",
       "\n",
       "    .dataframe tbody tr th {\n",
       "        vertical-align: top;\n",
       "    }\n",
       "\n",
       "    .dataframe thead th {\n",
       "        text-align: right;\n",
       "    }\n",
       "</style>\n",
       "<table border=\"1\" class=\"dataframe\">\n",
       "  <thead>\n",
       "    <tr style=\"text-align: right;\">\n",
       "      <th></th>\n",
       "      <th>Selling_Price</th>\n",
       "    </tr>\n",
       "    <tr>\n",
       "      <th>Seller_Type</th>\n",
       "      <th></th>\n",
       "    </tr>\n",
       "  </thead>\n",
       "  <tbody>\n",
       "    <tr>\n",
       "      <th>Dealer</th>\n",
       "      <td>6.72</td>\n",
       "    </tr>\n",
       "    <tr>\n",
       "      <th>Individual</th>\n",
       "      <td>0.87</td>\n",
       "    </tr>\n",
       "  </tbody>\n",
       "</table>\n",
       "</div>"
      ],
      "text/plain": [
       "             Selling_Price\n",
       "Seller_Type               \n",
       "Dealer                6.72\n",
       "Individual            0.87"
      ]
     },
     "execution_count": 5,
     "metadata": {},
     "output_type": "execute_result"
    }
   ],
   "source": [
    "cars.groupby(\"Seller_Type\")[[\"Selling_Price\"]].mean().round(decimals = 2)"
   ]
  },
  {
   "cell_type": "markdown",
   "id": "f8406ea9-5e18-43bc-95fe-97d5b43d095f",
   "metadata": {},
   "source": [
    "The owner of this data set has chosen to display the selling price and present price in a decimal format.  I assume the dealer on average sold their used cars for 67,200 and the individual person sold it for 8,700.  I expected that the dealer would be able to sale their cars for a higher price, but this seems larger than I expected.\n",
    "\n",
    "It could be possible that dealers have access to more expensive cars than individuals. It could also be dealer have access to more cars.  We will look at this further."
   ]
  },
  {
   "cell_type": "code",
   "execution_count": 6,
   "id": "14d9c9ec-ddc9-4d94-8bce-14a0376c77e5",
   "metadata": {},
   "outputs": [
    {
     "data": {
      "text/html": [
       "<div>\n",
       "<style scoped>\n",
       "    .dataframe tbody tr th:only-of-type {\n",
       "        vertical-align: middle;\n",
       "    }\n",
       "\n",
       "    .dataframe tbody tr th {\n",
       "        vertical-align: top;\n",
       "    }\n",
       "\n",
       "    .dataframe thead th {\n",
       "        text-align: right;\n",
       "    }\n",
       "</style>\n",
       "<table border=\"1\" class=\"dataframe\">\n",
       "  <thead>\n",
       "    <tr style=\"text-align: right;\">\n",
       "      <th></th>\n",
       "      <th>Selling_Price</th>\n",
       "    </tr>\n",
       "    <tr>\n",
       "      <th>Transmission</th>\n",
       "      <th></th>\n",
       "    </tr>\n",
       "  </thead>\n",
       "  <tbody>\n",
       "    <tr>\n",
       "      <th>Automatic</th>\n",
       "      <td>9.42</td>\n",
       "    </tr>\n",
       "    <tr>\n",
       "      <th>Manual</th>\n",
       "      <td>3.93</td>\n",
       "    </tr>\n",
       "  </tbody>\n",
       "</table>\n",
       "</div>"
      ],
      "text/plain": [
       "              Selling_Price\n",
       "Transmission               \n",
       "Automatic              9.42\n",
       "Manual                 3.93"
      ]
     },
     "execution_count": 6,
     "metadata": {},
     "output_type": "execute_result"
    }
   ],
   "source": [
    "cars.groupby(\"Transmission\")[[\"Selling_Price\"]].mean().round(decimals = 2)"
   ]
  },
  {
   "cell_type": "markdown",
   "id": "86378729-879b-43e0-aeef-be56dfdd9c35",
   "metadata": {},
   "source": [
    "Cars with an automatic transmission have a higher resale value than manual transmission vehicles."
   ]
  },
  {
   "cell_type": "code",
   "execution_count": 7,
   "id": "7c4f8289-e54b-4084-8869-85acae5ea201",
   "metadata": {},
   "outputs": [
    {
     "data": {
      "text/plain": [
       "Dealer        195\n",
       "Individual    106\n",
       "Name: Seller_Type, dtype: int64"
      ]
     },
     "execution_count": 7,
     "metadata": {},
     "output_type": "execute_result"
    }
   ],
   "source": [
    "cars.Seller_Type.value_counts()"
   ]
  },
  {
   "cell_type": "markdown",
   "id": "7cad45fa-1d73-4421-addd-eaf0a442940b",
   "metadata": {},
   "source": [
    "We can confirm dealers sold more cars (195) compared to individuals (106)."
   ]
  },
  {
   "cell_type": "code",
   "execution_count": 8,
   "id": "39bd4abc-cc86-44c9-8647-6cd5784c2d36",
   "metadata": {},
   "outputs": [
    {
     "data": {
      "text/plain": [
       "               Seller_Type\n",
       "Selling_Price  Dealer             6.721692\n",
       "               Individual         0.870943\n",
       "Present_Price  Dealer            10.886308\n",
       "               Individual         1.635283\n",
       "Kms_Driven     Dealer         39850.133333\n",
       "               Individual     31606.915094\n",
       "dtype: float64"
      ]
     },
     "execution_count": 8,
     "metadata": {},
     "output_type": "execute_result"
    }
   ],
   "source": [
    "drop_cars = cars.drop([\"Year\", \"Fuel_Type\", \"Transmission\", \"Owner\"], axis = 1) \\\n",
    "    .groupby(\"Seller_Type\").mean()\n",
    "drop_cars\n",
    "drop_cars.groupby(\"Seller_Type\").mean().unstack()"
   ]
  },
  {
   "cell_type": "markdown",
   "id": "22636435-f260-479c-b44a-1e5d24b7482a",
   "metadata": {},
   "source": [
    "This across group summary again confirms dealers are able to sale their cars for a much higher price.  The dealer is able to ask for a higher selling price even though the dealer's vehicles had more mileage."
   ]
  },
  {
   "cell_type": "code",
   "execution_count": 9,
   "id": "388732b2-d481-40a4-9c06-cb3095fb0ec6",
   "metadata": {},
   "outputs": [
    {
     "data": {
      "text/html": [
       "<div>\n",
       "<style scoped>\n",
       "    .dataframe tbody tr th:only-of-type {\n",
       "        vertical-align: middle;\n",
       "    }\n",
       "\n",
       "    .dataframe tbody tr th {\n",
       "        vertical-align: top;\n",
       "    }\n",
       "\n",
       "    .dataframe thead tr th {\n",
       "        text-align: left;\n",
       "    }\n",
       "\n",
       "    .dataframe thead tr:last-of-type th {\n",
       "        text-align: right;\n",
       "    }\n",
       "</style>\n",
       "<table border=\"1\" class=\"dataframe\">\n",
       "  <thead>\n",
       "    <tr>\n",
       "      <th></th>\n",
       "      <th colspan=\"10\" halign=\"left\">Selling_Price</th>\n",
       "      <th>...</th>\n",
       "      <th colspan=\"10\" halign=\"left\">Kms_Driven</th>\n",
       "    </tr>\n",
       "    <tr>\n",
       "      <th>Car_Name</th>\n",
       "      <th>800</th>\n",
       "      <th>Activa 3g</th>\n",
       "      <th>Activa 4g</th>\n",
       "      <th>Bajaj  ct 100</th>\n",
       "      <th>Bajaj Avenger 150</th>\n",
       "      <th>Bajaj Avenger 150 street</th>\n",
       "      <th>Bajaj Avenger 220</th>\n",
       "      <th>Bajaj Avenger 220 dtsi</th>\n",
       "      <th>Bajaj Avenger Street 220</th>\n",
       "      <th>Bajaj Discover 100</th>\n",
       "      <th>...</th>\n",
       "      <th>land cruiser</th>\n",
       "      <th>omni</th>\n",
       "      <th>ritz</th>\n",
       "      <th>s cross</th>\n",
       "      <th>swift</th>\n",
       "      <th>sx4</th>\n",
       "      <th>verna</th>\n",
       "      <th>vitara brezza</th>\n",
       "      <th>wagon r</th>\n",
       "      <th>xcent</th>\n",
       "    </tr>\n",
       "    <tr>\n",
       "      <th>Seller_Type</th>\n",
       "      <th></th>\n",
       "      <th></th>\n",
       "      <th></th>\n",
       "      <th></th>\n",
       "      <th></th>\n",
       "      <th></th>\n",
       "      <th></th>\n",
       "      <th></th>\n",
       "      <th></th>\n",
       "      <th></th>\n",
       "      <th></th>\n",
       "      <th></th>\n",
       "      <th></th>\n",
       "      <th></th>\n",
       "      <th></th>\n",
       "      <th></th>\n",
       "      <th></th>\n",
       "      <th></th>\n",
       "      <th></th>\n",
       "      <th></th>\n",
       "      <th></th>\n",
       "    </tr>\n",
       "  </thead>\n",
       "  <tbody>\n",
       "    <tr>\n",
       "      <th>Dealer</th>\n",
       "      <td>NaN</td>\n",
       "      <td>NaN</td>\n",
       "      <td>NaN</td>\n",
       "      <td>NaN</td>\n",
       "      <td>NaN</td>\n",
       "      <td>NaN</td>\n",
       "      <td>NaN</td>\n",
       "      <td>NaN</td>\n",
       "      <td>NaN</td>\n",
       "      <td>NaN</td>\n",
       "      <td>...</td>\n",
       "      <td>78000.0</td>\n",
       "      <td>50000.0</td>\n",
       "      <td>49292.75</td>\n",
       "      <td>33429.0</td>\n",
       "      <td>39147.0</td>\n",
       "      <td>50740.0</td>\n",
       "      <td>42747.285714</td>\n",
       "      <td>2071.0</td>\n",
       "      <td>40644.75</td>\n",
       "      <td>27448.333333</td>\n",
       "    </tr>\n",
       "    <tr>\n",
       "      <th>Individual</th>\n",
       "      <td>0.35</td>\n",
       "      <td>0.31</td>\n",
       "      <td>0.4</td>\n",
       "      <td>0.18</td>\n",
       "      <td>0.75</td>\n",
       "      <td>0.6</td>\n",
       "      <td>0.79</td>\n",
       "      <td>0.525</td>\n",
       "      <td>0.45</td>\n",
       "      <td>0.27</td>\n",
       "      <td>...</td>\n",
       "      <td>NaN</td>\n",
       "      <td>NaN</td>\n",
       "      <td>NaN</td>\n",
       "      <td>NaN</td>\n",
       "      <td>16200.0</td>\n",
       "      <td>NaN</td>\n",
       "      <td>NaN</td>\n",
       "      <td>NaN</td>\n",
       "      <td>NaN</td>\n",
       "      <td>NaN</td>\n",
       "    </tr>\n",
       "  </tbody>\n",
       "</table>\n",
       "<p>2 rows × 294 columns</p>\n",
       "</div>"
      ],
      "text/plain": [
       "            Selling_Price                                                      \\\n",
       "Car_Name              800 Activa 3g Activa 4g Bajaj  ct 100 Bajaj Avenger 150   \n",
       "Seller_Type                                                                     \n",
       "Dealer                NaN       NaN       NaN           NaN               NaN   \n",
       "Individual           0.35      0.31       0.4          0.18              0.75   \n",
       "\n",
       "                                                                               \\\n",
       "Car_Name    Bajaj Avenger 150 street Bajaj Avenger 220 Bajaj Avenger 220 dtsi   \n",
       "Seller_Type                                                                     \n",
       "Dealer                           NaN               NaN                    NaN   \n",
       "Individual                       0.6              0.79                  0.525   \n",
       "\n",
       "                                                         ...   Kms_Driven  \\\n",
       "Car_Name    Bajaj Avenger Street 220 Bajaj Discover 100  ... land cruiser   \n",
       "Seller_Type                                              ...                \n",
       "Dealer                           NaN                NaN  ...      78000.0   \n",
       "Individual                      0.45               0.27  ...          NaN   \n",
       "\n",
       "                                                                         \\\n",
       "Car_Name        omni      ritz  s cross    swift      sx4         verna   \n",
       "Seller_Type                                                               \n",
       "Dealer       50000.0  49292.75  33429.0  39147.0  50740.0  42747.285714   \n",
       "Individual       NaN       NaN      NaN  16200.0      NaN           NaN   \n",
       "\n",
       "                                                   \n",
       "Car_Name    vitara brezza   wagon r         xcent  \n",
       "Seller_Type                                        \n",
       "Dealer             2071.0  40644.75  27448.333333  \n",
       "Individual            NaN       NaN           NaN  \n",
       "\n",
       "[2 rows x 294 columns]"
      ]
     },
     "execution_count": 9,
     "metadata": {},
     "output_type": "execute_result"
    }
   ],
   "source": [
    "drop_cars = cars.drop([\"Year\", \"Fuel_Type\", \"Transmission\", \"Owner\"], axis = 1) \\\n",
    "    .groupby([\"Seller_Type\",\"Car_Name\"]).mean()\n",
    "drop_cars\n",
    "drop_cars.groupby([\"Seller_Type\",\"Car_Name\"]).mean().unstack()"
   ]
  },
  {
   "cell_type": "markdown",
   "id": "47610700-b965-4481-8298-6a1348d92202",
   "metadata": {},
   "source": [
    "This across group summary shows the dealer has access to more expensive cars. It looks as if the dealers only sells high end vehicles.  This explains the large difference in selling prices between dealers and individuals."
   ]
  },
  {
   "cell_type": "code",
   "execution_count": 10,
   "id": "9af84ed8-b003-4ea3-8e72-3f299cb78b12",
   "metadata": {},
   "outputs": [
    {
     "data": {
      "image/png": "[encoded data removed]",
      "text/plain": [
       "<Figure size 432x288 with 1 Axes>"
      ]
     },
     "metadata": {
      "needs_background": "light"
     },
     "output_type": "display_data"
    }
   ],
   "source": [
    "import matplotlib.pyplot as plt\n",
    "\n",
    "cars.groupby(\"Seller_Type\")[\"Year\"].hist(bins = 10, alpha = 0.25)\n",
    "plt.xlabel(\"Year\")\n",
    "plt.ylabel(\"Number of Used Cars\")\n",
    "plt.legend(cars.Seller_Type.cat.categories)\n",
    "plt.show()\n",
    "plt.close()"
   ]
  },
  {
   "cell_type": "markdown",
   "id": "49b22e31-0725-4a65-b410-a86f1a353997",
   "metadata": {},
   "source": [
    "The histogram of used cars model year grouped by seller_type (dealer or individual) revealed that dealer had access to more cars over time.  In 2016, the dealers sold 80 cars while the individual sold approximately 36.  During 2018, individuals sold no cars and dealers sold approximately 19 vehicles."
   ]
  },
  {
   "cell_type": "markdown",
   "id": "8618f91f-8f22-4a9d-92a2-ad285b366323",
   "metadata": {},
   "source": [
    " "
   ]
  },
  {
   "cell_type": "code",
   "execution_count": 11,
   "id": "e15e77cc-5257-4768-840c-158a7f889f9e",
   "metadata": {},
   "outputs": [
    {
     "data": {
      "text/plain": [
       "Text(0, 0.5, 'Selling Price')"
      ]
     },
     "execution_count": 11,
     "metadata": {},
     "output_type": "execute_result"
    },
    {
     "data": {
      "image/png": "[encoded data removed]",
      "text/plain": [
       "<Figure size 432x288 with 2 Axes>"
      ]
     },
     "metadata": {
      "needs_background": "light"
     },
     "output_type": "display_data"
    }
   ],
   "source": [
    "# scatter plot \n",
    "fig, ax=plt.subplots()\n",
    "\n",
    "cars.plot.scatter(x = \"Kms_Driven\", y = \"Selling_Price\", c = \"Seller_Type\",  cmap = \"viridis\" \\\n",
    "                  ,ax=ax) \\\n",
    "  .set_title(\"Scatterplot relating Selling Price to Mileage by Seller\")\n",
    "ax.set_xlabel(\"Kilometers Driven\")\n",
    "plt.ylabel(\"Selling Price\")"
   ]
  },
  {
   "cell_type": "markdown",
   "id": "54f5ab35-01bd-42e2-a201-eb9ade9f600b",
   "metadata": {},
   "source": [
    "This scatterplot also confirms that dealers received an higher resale price.  Most of the cars resold had less then 100,000 miles."
   ]
  },
  {
   "cell_type": "markdown",
   "id": "426acbee-c147-44d2-8056-ed0bc201108d",
   "metadata": {},
   "source": [
    " \n"
   ]
  },
  {
   "cell_type": "markdown",
   "id": "f3c08e36-26e7-4d75-9b3f-2e12382a1b2a",
   "metadata": {},
   "source": [
    "## Prediction of `selling_price`  "
   ]
  },
  {
   "cell_type": "code",
   "execution_count": 12,
   "id": "48084316-0371-4def-bce6-dfa9b2ceb0f7",
   "metadata": {},
   "outputs": [
    {
     "data": {
      "text/html": [
       "<div>\n",
       "<style scoped>\n",
       "    .dataframe tbody tr th:only-of-type {\n",
       "        vertical-align: middle;\n",
       "    }\n",
       "\n",
       "    .dataframe tbody tr th {\n",
       "        vertical-align: top;\n",
       "    }\n",
       "\n",
       "    .dataframe thead th {\n",
       "        text-align: right;\n",
       "    }\n",
       "</style>\n",
       "<table border=\"1\" class=\"dataframe\">\n",
       "  <thead>\n",
       "    <tr style=\"text-align: right;\">\n",
       "      <th></th>\n",
       "      <th>Year</th>\n",
       "      <th>Selling_Price</th>\n",
       "      <th>Present_Price</th>\n",
       "      <th>Kms_Driven</th>\n",
       "    </tr>\n",
       "  </thead>\n",
       "  <tbody>\n",
       "    <tr>\n",
       "      <th>count</th>\n",
       "      <td>301.000000</td>\n",
       "      <td>301.000000</td>\n",
       "      <td>301.000000</td>\n",
       "      <td>301.000000</td>\n",
       "    </tr>\n",
       "    <tr>\n",
       "      <th>mean</th>\n",
       "      <td>2013.627907</td>\n",
       "      <td>4.661296</td>\n",
       "      <td>7.628472</td>\n",
       "      <td>36947.205980</td>\n",
       "    </tr>\n",
       "    <tr>\n",
       "      <th>std</th>\n",
       "      <td>2.891554</td>\n",
       "      <td>5.082812</td>\n",
       "      <td>8.644115</td>\n",
       "      <td>38886.883882</td>\n",
       "    </tr>\n",
       "    <tr>\n",
       "      <th>min</th>\n",
       "      <td>2003.000000</td>\n",
       "      <td>0.100000</td>\n",
       "      <td>0.320000</td>\n",
       "      <td>500.000000</td>\n",
       "    </tr>\n",
       "    <tr>\n",
       "      <th>25%</th>\n",
       "      <td>2012.000000</td>\n",
       "      <td>0.900000</td>\n",
       "      <td>1.200000</td>\n",
       "      <td>15000.000000</td>\n",
       "    </tr>\n",
       "    <tr>\n",
       "      <th>50%</th>\n",
       "      <td>2014.000000</td>\n",
       "      <td>3.600000</td>\n",
       "      <td>6.400000</td>\n",
       "      <td>32000.000000</td>\n",
       "    </tr>\n",
       "    <tr>\n",
       "      <th>75%</th>\n",
       "      <td>2016.000000</td>\n",
       "      <td>6.000000</td>\n",
       "      <td>9.900000</td>\n",
       "      <td>48767.000000</td>\n",
       "    </tr>\n",
       "    <tr>\n",
       "      <th>max</th>\n",
       "      <td>2018.000000</td>\n",
       "      <td>35.000000</td>\n",
       "      <td>92.600000</td>\n",
       "      <td>500000.000000</td>\n",
       "    </tr>\n",
       "  </tbody>\n",
       "</table>\n",
       "</div>"
      ],
      "text/plain": [
       "              Year  Selling_Price  Present_Price     Kms_Driven\n",
       "count   301.000000     301.000000     301.000000     301.000000\n",
       "mean   2013.627907       4.661296       7.628472   36947.205980\n",
       "std       2.891554       5.082812       8.644115   38886.883882\n",
       "min    2003.000000       0.100000       0.320000     500.000000\n",
       "25%    2012.000000       0.900000       1.200000   15000.000000\n",
       "50%    2014.000000       3.600000       6.400000   32000.000000\n",
       "75%    2016.000000       6.000000       9.900000   48767.000000\n",
       "max    2018.000000      35.000000      92.600000  500000.000000"
      ]
     },
     "execution_count": 12,
     "metadata": {},
     "output_type": "execute_result"
    }
   ],
   "source": [
    "cars.describe()"
   ]
  },
  {
   "cell_type": "markdown",
   "id": "872315d6-89df-4977-a3eb-5995fac79cbc",
   "metadata": {},
   "source": [
    "### Gradient Descent Method\n",
    "\n",
    "We used the gradient descent method to find the best prediction of `selling_price` by minimizing the Root Mean Squared Error using a difference quotient for b_0 and b_1.  Ideally, we are looking for the best combination of b_0 and b_1 which produces the smallest non negative number closest to 0.\n",
    "\n",
    "#### Root Mean Squared Error  \n",
    "$$ RMSE(b_0, b_1) = \\sqrt{\\frac{1}{n}\\sum_{i=1}^{n} (y-b_0 - b_1x)^2} $$\n",
    "\n",
    "#### Difference Quotient \n",
    "$$ diffQuotient b_0 = \\frac{RMSE(b_0 + Δ_0, b_1) - RMSE (b_0, b_1)}{Δ_0} $$\n",
    "\n",
    "$$ diffQuotient b_1 = \\frac{RMSE(b_0, b_1 + Δ_1) - RMSE (b_0, b_1)}{Δ_1} $$\n",
    "\n",
    "- $b_0$ is estimate for y-intercept of linear regression model y =  $b_0x + b_1$\n",
    "- $b_1$ is estimate for slope of linear regression model y =  $b_0x + b_1$ \n",
    "- $Δ_i$ is our our small change for each iteration to move our slope in the direction of a 0 difference\n",
    "- $ y $ is the actual `selling_price` for observation $ i $  \n",
    "- $ x $ is the actual `km_driven` for observation $ i $ \n",
    "- $ n $ is the number of observations  "
   ]
  },
  {
   "cell_type": "code",
   "execution_count": 13,
   "id": "9f7f43dc-eb7f-41a6-a6c2-fd87b2d08a6f",
   "metadata": {},
   "outputs": [],
   "source": [
    "# Create a squared error loss function that takes in y and c and outputs (y − c)^2.\n",
    "def SE(y, c):\n",
    "    SE = np.square(np.subtract(y,c))\n",
    "    return(SE)\n",
    "\n",
    "# Create a root mean squared error (objective) q function that takes in y and c and \n",
    "# outputs RMSE(c)\n",
    "def RMSE(y,c):\n",
    "    MSE = SE(y,c).mean()\n",
    "    RMSE = math.sqrt(MSE)\n",
    "    return(RMSE)\n",
    "\n",
    "# Create a difference quotient function to approximate the slope of the tangent line \n",
    "# that takes in c, Δc, and y\n",
    "def diffQuotient(c, Δc, y):\n",
    "    diffQuot = (RMSE(y, c+Δc) - RMSE(y, c))/Δc\n",
    "    return(diffQuot)"
   ]
  },
  {
   "cell_type": "code",
   "execution_count": 14,
   "id": "56313538-a08c-4706-8440-4eb552bd64be",
   "metadata": {},
   "outputs": [],
   "source": [
    "# Function to calculate the Gradient Descent for Y\n",
    "\n",
    "def findGradient(y):\n",
    "    \"\"\"\n",
    "    Computes the Gradient Descent for one variable b0 (slope).\n",
    "    \"\"\"\n",
    "    cur_c = 0              # initialize  \n",
    "    new_c = y.mean()       #guess\n",
    "    step_size = 0.50       #how slowly to move to find where derivative is 0\n",
    "    num_tot = 0.005        #used to check difference and stop looping\n",
    "    max_iter = 500000      #max iterations \n",
    "    iters = 0\n",
    "    diff_quotient = 1\n",
    "\n",
    "\n",
    "    while iters < max_iter:\n",
    "        cur_c = new_c\n",
    "        diff_quotient = diffQuotient(cur_c, step_size , y)\n",
    "        new_c = cur_c - diff_quotient * step_size\n",
    "        if (abs(new_c - cur_c) < num_tot):\n",
    "            break\n",
    "        else:\n",
    "            cur_c = new_c\n",
    "            iters = iters +1\n",
    "           # print(\"In Loop - iters is \", iters,\"new_c \", new_c, \"diff_quotient\", diff_quotient )\n",
    "\n",
    "    print(\"Prediction is \", new_c)\n"
   ]
  },
  {
   "cell_type": "code",
   "execution_count": 15,
   "id": "3da35fe0-8bbb-4d76-9a06-20f771e7990d",
   "metadata": {},
   "outputs": [
    {
     "name": "stdout",
     "output_type": "stream",
     "text": [
      "Prediction is  4.454283821979338\n"
     ]
    }
   ],
   "source": [
    "# prediction using Gradient for selling price\n",
    "\n",
    "y = cars[\"Selling_Price\"]\n",
    "y = y.to_numpy()\n",
    "\n",
    "findGradient(y)"
   ]
  },
  {
   "cell_type": "code",
   "execution_count": 16,
   "id": "7419ed8b-b95c-4b67-92f1-454fcdd68fbb",
   "metadata": {},
   "outputs": [
    {
     "name": "stdout",
     "output_type": "stream",
     "text": [
      "Prediction is  36947.205976846635\n"
     ]
    }
   ],
   "source": [
    "# prediction using Gradient for km driven\n",
    "\n",
    "y = cars[\"Kms_Driven\"]\n",
    "y = y.to_numpy()\n",
    "\n",
    "findGradient(y)"
   ]
  },
  {
   "cell_type": "markdown",
   "id": "45e445ab-bcc2-43c6-935a-f7498a666064",
   "metadata": {},
   "source": [
    "##### Using _y_ and another numeric variable x."
   ]
  },
  {
   "cell_type": "code",
   "execution_count": 17,
   "id": "19ff87d4-b125-4993-a719-f6559438edc8",
   "metadata": {},
   "outputs": [],
   "source": [
    "# Create a squared error loss function that takes in y, b0, b1, and x and outputs (y − b0 - b1*x)^2.\n",
    "def SE2(y, x, b0, b1):\n",
    "    SE2 = np.square(np.subtract(y,b0, b1*x))\n",
    "    return(SE2)\n",
    "\n",
    "# Create a root mean squared error (objective) q function that takes in y, b0, b1, and x and \n",
    "# outputs RMSE(c)\n",
    "def RMSE2(y,x,b0, b1):\n",
    "    MSE = SE2(y, x, b0, b1).mean()\n",
    "    RMSE2 = math.sqrt(MSE)\n",
    "    return(RMSE2)\n",
    "\n",
    "# Create a difference quotient function to approximate the slope of the tangent line in the \n",
    "#direction of b0 that takes in y, b0, b1, Δ0, and x\n",
    "def diffQuotient_b0(y,x,b0, Δ0, b1):\n",
    "    diffQuot_b0 = (RMSE2(y, x, b0 +Δ0, b1) - RMSE2(y, x, b0, b1))/Δ0\n",
    "    return(diffQuot_b0)\n",
    "\n",
    "# Create a difference quotient function to approximate the slope of the tangent line in the \n",
    "#direction of b1 that takes in y, b0, b1, Δ1, and x\n",
    "def diffQuotient_b1(y,x,b0, Δ1, b1):\n",
    "    diffQuot_b1 = (RMSE2(y, x, b0, b1 + Δ1) - RMSE2(y, x, b0, b1))/Δ1\n",
    "    return(diffQuot_b1)\n",
    "\n",
    "#Determine distance using Euclidean \n",
    "def compute_euclidean(a,b):\n",
    "    return np.sqrt(np.sum((a-b)**2))\n"
   ]
  },
  {
   "cell_type": "code",
   "execution_count": 18,
   "id": "27be37a2-ac30-4cad-a78c-c8043f4e49fe",
   "metadata": {},
   "outputs": [],
   "source": [
    "# Function to calculate the Gradient Descent for Y and X \n",
    "\n",
    "def findGradient2(y, x, b0, b1):\n",
    "    \"\"\"\n",
    "    Computes the Gradient Descent for two variables b0 and b1.\n",
    "    \"\"\"\n",
    "    new_b0 = 0              # initialize new b0 value\n",
    "    new_b1 = 0              # initialize new b1 value\n",
    "    step_size_b0 = 0.750    # how slow to move to find where derivative is 0\n",
    "    step_size_b1 = 0.750    # how slow to move to find where derivative is 0\n",
    "    num_tot = 0.0005        # distance between vectors to stop looping\n",
    "    max_iter = 600000       # max iterations \n",
    "    iters = 0               # initialize \n",
    "    diff_Quot_b0 = 0        # initialize difference quotient for b0\n",
    "    diff_Quot_b1 = 0        # initialize difference quotient for b1 \n",
    "    distance = 0            # initialize variable that is compared to num_tot \n",
    "    Found = \"No\"            # initialize while loop to No\n",
    "    OpFinal = []            # initialize list which holds optimal b0 and b1\n",
    "    \n",
    "    cur_b0 = b0             # initialize current b0 to guess\n",
    "    cur_b1 = b1             # initialize current b1 to guess\n",
    "    \n",
    "    while iters < max_iter and Found == \"No\":\n",
    "        \n",
    "        diffQuot_b0 = diffQuotient_b0(y, x, cur_b0, step_size_b0, cur_b1)\n",
    "        new_b0 = cur_b0 - diffQuot_b0 * step_size_b0\n",
    "        \n",
    "        diffQuot_b1 = diffQuotient_b1(y, x, new_b0, step_size_b1, cur_b1)\n",
    "        new_b1 = cur_b1 - diffQuot_b1 * step_size_b1\n",
    "        \n",
    "        cVector = np.array([cur_b0, cur_b1])\n",
    "        nVector = np.array([new_b0, new_b1])\n",
    "        \n",
    "        #distance = np.sqrt(np.sum(np.square(nVector  -  cVector)))\n",
    "        distance1=compute_euclidean(nVector,cVector)\n",
    "        \n",
    "        if (distance < num_tot):              \n",
    "            cur_b0 = new_b0\n",
    "            cur_b1 = new_b1\n",
    "            Found = \"Yes\"\n",
    "            \n",
    "        else:\n",
    "            cur_b0 = new_b0\n",
    "            cur_b1 = new_b1\n",
    "            iters = iters +1\n",
    "            \n",
    "\n",
    "    OpFinal = [cur_b0, cur_b1]\n",
    "    #print(\"Optimal b0 is \", cur_b0, \"Optimal b1 is \", cur_b1, \"distance \", distance, \" iter\", iters)\n",
    "    print(\"The prediction for b_0, b_1 is  \", OpFinal)\n",
    "    return(OpFinal)"
   ]
  },
  {
   "cell_type": "code",
   "execution_count": 19,
   "id": "8b2b66c9-edb2-4a53-b62c-84b9c366bf53",
   "metadata": {},
   "outputs": [
    {
     "name": "stdout",
     "output_type": "stream",
     "text": [
      "The prediction for b_0, b_1 is   [49999.25000000386, -1.0]\n"
     ]
    }
   ],
   "source": [
    "y = cars[\"Selling_Price\"]\n",
    "y = y.to_numpy()\n",
    "x = cars[\"Kms_Driven\"]\n",
    "x = x.to_numpy()\n",
    "\n",
    "b0 = 50000.0     #guess \n",
    "b1 = -1.0        #guess\n",
    "\n",
    "OpFinal = findGradient2(y, x, b0, b1,)"
   ]
  },
  {
   "cell_type": "markdown",
   "id": "219cf9f8-8cb3-415e-8042-c472f63166c1",
   "metadata": {},
   "source": [
    "Best combination of $ b_0 $ and $ b_1 $ to predict `selling_price` for `km_driven` of 10000, 25000, and 35000."
   ]
  },
  {
   "cell_type": "code",
   "execution_count": 20,
   "id": "47c32f13-9ce2-4337-8138-7e57b574fe9a",
   "metadata": {},
   "outputs": [
    {
     "data": {
      "text/plain": [
       "39999.25000000386"
      ]
     },
     "execution_count": 20,
     "metadata": {},
     "output_type": "execute_result"
    }
   ],
   "source": [
    "# If km_drive = 10,000, then predicted selling_price is: \n",
    "OpFinal[0] + OpFinal[1]*10000.0"
   ]
  },
  {
   "cell_type": "code",
   "execution_count": 21,
   "id": "66e1d67f-ff2b-46e2-8e2e-c7c3e017e01b",
   "metadata": {},
   "outputs": [
    {
     "data": {
      "text/plain": [
       "24999.250000003864"
      ]
     },
     "execution_count": 21,
     "metadata": {},
     "output_type": "execute_result"
    }
   ],
   "source": [
    "# If km_drive = 25,000, then predicted selling_price is: \n",
    "OpFinal[0] + OpFinal[1]*25000.0"
   ]
  },
  {
   "cell_type": "code",
   "execution_count": 22,
   "id": "bc3d8f70-fccc-4d49-9ed2-99dcfead5878",
   "metadata": {},
   "outputs": [
    {
     "data": {
      "text/plain": [
       "14999.250000003864"
      ]
     },
     "execution_count": 22,
     "metadata": {},
     "output_type": "execute_result"
    }
   ],
   "source": [
    "# If km_drive = 35,000, then predicted selling_price is: \n",
    "OpFinal[0] + OpFinal[1]*35000.0"
   ]
  }
 ],
 "metadata": {
  "kernelspec": {
   "display_name": "Python 3 (ipykernel)",
   "language": "python",
   "name": "python3"
  },
  "language_info": {
   "codemirror_mode": {
    "name": "ipython",
    "version": 3
   },
   "file_extension": ".py",
   "mimetype": "text/x-python",
   "name": "python",
   "nbconvert_exporter": "python",
   "pygments_lexer": "ipython3",
   "version": "3.9.7"
  }
 },
 "nbformat": 4,
 "nbformat_minor": 5
}
