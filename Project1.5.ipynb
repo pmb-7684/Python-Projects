{
 "cells": [
  {
   "cell_type": "markdown",
   "id": "afd3ed37-57ab-4fbc-9707-4b15d0811487",
   "metadata": {},
   "source": [
    "\n",
    "#### Paula McCree-Bailey    \n",
    "\n",
    "##### Part 1 - List, String, loop, Dictionary, and  numpy practice"
   ]
  },
  {
   "cell_type": "code",
   "execution_count": 1,
   "id": "60e3c773-311b-4114-ba6a-2eaebb60c25e",
   "metadata": {},
   "outputs": [],
   "source": [
    "import numpy as np\n"
   ]
  },
  {
   "cell_type": "markdown",
   "id": "6ba01a04-ac16-43a4-af38-ac9b5ef71b0b",
   "metadata": {},
   "source": [
    "#####  String, loop, and Dictionary Practice \n",
    "\n",
    "##### The code below will read in the novel Pride and Prejudice by Jane Austen from a local text file. Our file was originally downloaded from this repo and the text itself comes from Project Gutenberg. The first 1,000 characters are printed out below to check that it was read in correctly"
   ]
  },
  {
   "cell_type": "code",
   "execution_count": 2,
   "id": "e3c572dc-4239-4c0f-ac48-e2e8ac377448",
   "metadata": {},
   "outputs": [
    {
     "name": "stdout",
     "output_type": "stream",
     "text": [
      "ï»¿The Project Gutenberg eBook, Pride and Prejudice, by Jane Austen, Edited\n",
      "by R. W. (Robert William) Chapman\n",
      "\n",
      "\n",
      "This eBook is for the use of anyone anywhere at no cost and with\n",
      "almost no restrictions whatsoever.  You may copy it, give it away or\n",
      "re-use it under the terms of the Project Gutenberg License included\n",
      "with this eBook or online at www.gutenberg.org\n",
      "\n",
      "\n",
      "\n",
      "\n",
      "\n",
      "Title: Pride and Prejudice\n",
      "\n",
      "\n",
      "Author: Jane Austen\n",
      "\n",
      "Editor: R. W. (Robert William) Chapman\n",
      "\n",
      "Release Date: May 9, 2013  [eBook #42671]\n",
      "\n",
      "Language: English\n",
      "\n",
      "\n",
      "***START OF THE PROJECT GUTENBERG EBOOK PRIDE AND PREJUDICE***\n",
      "\n",
      "\n",
      "E-text prepared by Greg Weeks, Jon Hurst, Mary Meehan, and the Online\n",
      "Distributed Proofreading Team (http://www.pgdp.net) from page images\n",
      "generously made available by Internet Archive (https://archive.org)\n",
      "\n",
      "\n",
      "\n",
      "Note: Project Gutenberg also has an HTML version of this\n",
      "      file which includes the original illustrations.\n",
      "      See 42671-h.htm or 42671-h.zip:\n",
      "      (http://www.gutenberg.org/files/42671/42671-h/42671\n"
     ]
    }
   ],
   "source": [
    "with open('jane-austen-pride-prejudice.txt', 'r') as f: lines = f.read()\n",
    "print(lines[:1000])"
   ]
  },
  {
   "cell_type": "markdown",
   "id": "f6980b1e-c381-412d-a320-14526d0a03fc",
   "metadata": {},
   "source": [
    "##### Trim the Data Down to the Text"
   ]
  },
  {
   "cell_type": "markdown",
   "id": "0b0acdf3-b8b4-4046-8f98-550322c2bcfb",
   "metadata": {},
   "source": [
    "##### The prior block of code read in the first 1,000 lines of the novel *Pride and Prejudice* by Jane Austin as one very long string. We are subsetting the string into just \"Chapter 1\" of the novel.\n",
    "\n",
    "##### For this step, we are using .find() to create a subset of the orginal novel.  This subset will begin with Chapter 1 and end after the first Transcriber's note.  After the data is subseted, we will print the first 250 characters and the last 250 characters."
   ]
  },
  {
   "cell_type": "code",
   "execution_count": 3,
   "id": "873ae05a-78cb-41ac-90e5-4f4c89a3ce7c",
   "metadata": {},
   "outputs": [
    {
     "data": {
      "text/plain": [
       "1846"
      ]
     },
     "execution_count": 3,
     "metadata": {},
     "output_type": "execute_result"
    }
   ],
   "source": [
    "FindCh1 = lines.find('CHAPTER I')  #location of text Chapter I\n",
    "FindCh1"
   ]
  },
  {
   "cell_type": "code",
   "execution_count": 4,
   "id": "13565f4c-f884-4581-a212-a351b3db943f",
   "metadata": {},
   "outputs": [],
   "source": [
    "Book = lines[FindCh1:692550]"
   ]
  },
  {
   "cell_type": "code",
   "execution_count": 5,
   "id": "e7a4eee6-a8fd-4257-a979-881ef7a9a89f",
   "metadata": {},
   "outputs": [
    {
     "name": "stdout",
     "output_type": "stream",
     "text": [
      "CHAPTER I.\n",
      "\n",
      "\n",
      "It is a truth universally acknowledged, that a single man in possession\n",
      "of a good fortune, must be in want of a wife.\n",
      "\n",
      "However little known the feelings or views of such a man may be on his\n",
      "first entering a neighbourhood, this truth is s\n"
     ]
    }
   ],
   "source": [
    "print(Book[:250])"
   ]
  },
  {
   "cell_type": "code",
   "execution_count": 6,
   "id": "55170b22-3de1-4584-b495-13adcae92abd",
   "metadata": {},
   "outputs": [
    {
     "name": "stdout",
     "output_type": "stream",
     "text": [
      "conciliation;\n",
      "and, after a little farther resistance on the part of his aunt, her\n",
      "resentment gave way, either to her affection for him, or her curiosity\n",
      "to see how his wife conducted herself; and she condescended to wait on\n",
      "them at Pemberley, in spite of that pollution which its woods had\n",
      "received, not merely from the presence of such a mistress, but the\n",
      "visits of her uncle and aunt from the city.\n",
      "\n",
      "With the Gardiners, they were always on the most intimate terms. Darcy,\n",
      "as well as Elizabeth, really loved them; and they were both ever\n",
      "sensible of the warmest gratitude towards the persons who, by bringing\n",
      "her into Derbyshire, had been the means of uniting them.\n",
      "\n",
      "\n",
      "\n",
      "\n",
      "       *       *       *       * \n"
     ]
    }
   ],
   "source": [
    "print(Book[690000:])"
   ]
  },
  {
   "cell_type": "markdown",
   "id": "20225af6-0fcd-44cb-ae3e-c338d3fb7365",
   "metadata": {},
   "source": [
    "#### Obtain Just the First Chapter\n",
    "\n",
    "##### Using the subsetted string named Books, we subsetted the string again to only obtain the first chapter.  Afterwards, we displayed out Chapter 1 and counted the number of words in Chapter 1."
   ]
  },
  {
   "cell_type": "code",
   "execution_count": 7,
   "id": "1be3d755-5516-479b-98a7-87f50624c12b",
   "metadata": {},
   "outputs": [
    {
     "data": {
      "text/plain": [
       "4501"
      ]
     },
     "execution_count": 7,
     "metadata": {},
     "output_type": "execute_result"
    }
   ],
   "source": [
    "FindCh1End = Book.find('CHAPTER II')\n",
    "FindCh1End    "
   ]
  },
  {
   "cell_type": "code",
   "execution_count": 8,
   "id": "0508f525-8344-444b-8e45-19e4e5d3a4cb",
   "metadata": {},
   "outputs": [],
   "source": [
    "Chapter1 = Book[0:4500 ]"
   ]
  },
  {
   "cell_type": "code",
   "execution_count": 9,
   "id": "df946a3d-f351-4aea-81d2-3e833336f3c8",
   "metadata": {},
   "outputs": [
    {
     "data": {
      "text/plain": [
       "'CHAPTER I.\\n\\n\\nIt is a truth universally acknowledged, that a single man in possession\\nof a good fortune, must be in want of a wife.\\n\\nHowever little known the feelings or views of such a man may be on his\\nfirst entering a neighbourhood, this truth is so well fixed in the minds\\nof the surrounding families, that he is considered as the rightful\\nproperty of some one or other of their daughters.\\n\\n\"My dear Mr. Bennet,\" said his lady to him one day, \"have you heard that\\nNetherfield Park is let at last?\"\\n\\nMr. Bennet replied that he had not.\\n\\n\"But it is,\" returned she; \"for Mrs. Long has just been here, and she\\ntold me all about it.\"\\n\\nMr. Bennet made no answer.\\n\\n\"Do not you want to know who has taken it?\" cried his wife impatiently.\\n\\n\"_You_ want to tell me, and I have no objection to hearing it.\"\\n\\nThis was invitation enough.\\n\\n\"Why, my dear, you must know, Mrs. Long says that Netherfield is taken\\nby a young man of large fortune from the north of England; that he came\\ndown on Monday in a chaise and four to see the place, and was so much\\ndelighted with it that he agreed with Mr. Morris immediately; that he is\\nto take possession before Michaelmas, and some of his servants are to be\\nin the house by the end of next week.\"\\n\\n\"What is his name?\"\\n\\n\"Bingley.\"\\n\\n\"Is he married or single?\"\\n\\n\"Oh! single, my dear, to be sure! A single man of large fortune; four\\nor five thousand a year. What a fine thing for our girls!\"\\n\\n\"How so? how can it affect them?\"\\n\\n\"My dear Mr. Bennet,\" replied his wife, \"how can you be so tiresome! You\\nmust know that I am thinking of his marrying one of them.\"\\n\\n\"Is that his design in settling here?\"\\n\\n\"Design! nonsense, how can you talk so! But it is very likely that he\\n_may_ fall in love with one of them, and therefore you must visit him as\\nsoon as he comes.\"\\n\\n\"I see no occasion for that. You and the girls may go, or you may send\\nthem by themselves, which perhaps will be still better, for as you are\\nas handsome as any of them, Mr. Bingley might like you the best of the\\nparty.\"\\n\\n\"My dear, you flatter me. I certainly _have_ had my share of beauty, but\\nI do not pretend to be any thing extraordinary now. When a woman has\\nfive grown up daughters, she ought to give over thinking of her own\\nbeauty.\"\\n\\n\"In such cases, a woman has not often much beauty to think of.\"\\n\\n\"But, my dear, you must indeed go and see Mr. Bingley when he comes into\\nthe neighbourhood.\"\\n\\n\"It is more than I engage for, I assure you.\"\\n\\n\"But consider your daughters. Only think what an establishment it would\\nbe for one of them. Sir William and Lady Lucas are determined to go,\\nmerely on that account, for in general you know they visit no new\\ncomers. Indeed you must go, for it will be impossible for _us_ to visit\\nhim, if you do not.\"\\n\\n\"You are over scrupulous surely. I dare say Mr. Bingley will be very\\nglad to see you; and I will send a few lines by you to assure him of my\\nhearty consent to his marrying which ever he chuses of the girls; though\\nI must throw in a good word for my little Lizzy.\"\\n\\n\"I desire you will do no such thing. Lizzy is not a bit better than the\\nothers; and I am sure she is not half so handsome as Jane, nor half so\\ngood humoured as Lydia. But you are always giving _her_ the\\npreference.\"\\n\\n\"They have none of them much to recommend them,\" replied he; \"they are\\nall silly and ignorant like other girls; but Lizzy has something more of\\nquickness than her sisters.\"\\n\\n\"Mr. Bennet, how can you abuse your own children in such a way? You take\\ndelight in vexing me. You have no compassion on my poor nerves.\"\\n\\n\"You mistake me, my dear. I have a high respect for your nerves. They\\nare my old friends. I have heard you mention them with consideration\\nthese twenty years at least.\"\\n\\n\"Ah! you do not know what I suffer.\"\\n\\n\"But I hope you will get over it, and live to see many young men of four\\nthousand a year come into the neighbourhood.\"\\n\\n\"It will be no use to us, if twenty such should come since you will not\\nvisit them.\"\\n\\n\"Depend upon it, my dear, that when there are twenty, I will visit them\\nall.\"\\n\\nMr. Bennet was so odd a mixture of quick parts, sarcastic humour,\\nreserve, and caprice, that the experience of three and twenty years had\\nbeen insufficient to make his wife understand his character. _Her_ mind\\nwas less difficult to develope. She was a woman of mean understanding,\\nlittle information, and uncertain temper. When she was discontented she\\nfancied herself nervous. The business of her life was to get her\\ndaughters married; its solace was visiting and news.\\n\\n\\n\\n'"
      ]
     },
     "execution_count": 9,
     "metadata": {},
     "output_type": "execute_result"
    }
   ],
   "source": [
    "Chapter1"
   ]
  },
  {
   "cell_type": "code",
   "execution_count": 10,
   "id": "83a6c9a1-e05d-42be-83a5-12dc4f9bd7ae",
   "metadata": {},
   "outputs": [
    {
     "name": "stdout",
     "output_type": "stream",
     "text": [
      "CHAPTER I.\n",
      "\n",
      "\n",
      "It is a truth universally acknowledged, that a single man in possession\n",
      "of a good fortune, must be in want of a wife.\n",
      "\n",
      "However little known the feelings or views of such a man may be on his\n",
      "first entering a neighbourhood, this truth is so well fixed in the minds\n",
      "of the surrounding families, that he is considered as the rightful\n",
      "property of some one or other of their daughters.\n",
      "\n",
      "\"My dear Mr. Bennet,\" said his lady to him one day, \"have you heard that\n",
      "Netherfield Park is let at last?\"\n",
      "\n",
      "Mr. Bennet replied that he had not.\n",
      "\n",
      "\"But it is,\" returned she; \"for Mrs. Long has just been here, and she\n",
      "told me all about it.\"\n",
      "\n",
      "Mr. Bennet made no answer.\n",
      "\n",
      "\"Do not you want to know who has taken it?\" cried his wife impatiently.\n",
      "\n",
      "\"_You_ want to tell me, and I have no objection to hearing it.\"\n",
      "\n",
      "This was invitation enough.\n",
      "\n",
      "\"Why, my dear, you must know, Mrs. Long says that Netherfield is taken\n",
      "by a young man of large fortune from the north of England; that he came\n",
      "down on Monday in a chaise and four to see the place, and was so much\n",
      "delighted with it that he agreed with Mr. Morris immediately; that he is\n",
      "to take possession before Michaelmas, and some of his servants are to be\n",
      "in the house by the end of next week.\"\n",
      "\n",
      "\"What is his name?\"\n",
      "\n",
      "\"Bingley.\"\n",
      "\n",
      "\"Is he married or single?\"\n",
      "\n",
      "\"Oh! single, my dear, to be sure! A single man of large fortune; four\n",
      "or five thousand a year. What a fine thing for our girls!\"\n",
      "\n",
      "\"How so? how can it affect them?\"\n",
      "\n",
      "\"My dear Mr. Bennet,\" replied his wife, \"how can you be so tiresome! You\n",
      "must know that I am thinking of his marrying one of them.\"\n",
      "\n",
      "\"Is that his design in settling here?\"\n",
      "\n",
      "\"Design! nonsense, how can you talk so! But it is very likely that he\n",
      "_may_ fall in love with one of them, and therefore you must visit him as\n",
      "soon as he comes.\"\n",
      "\n",
      "\"I see no occasion for that. You and the girls may go, or you may send\n",
      "them by themselves, which perhaps will be still better, for as you are\n",
      "as handsome as any of them, Mr. Bingley might like you the best of the\n",
      "party.\"\n",
      "\n",
      "\"My dear, you flatter me. I certainly _have_ had my share of beauty, but\n",
      "I do not pretend to be any thing extraordinary now. When a woman has\n",
      "five grown up daughters, she ought to give over thinking of her own\n",
      "beauty.\"\n",
      "\n",
      "\"In such cases, a woman has not often much beauty to think of.\"\n",
      "\n",
      "\"But, my dear, you must indeed go and see Mr. Bingley when he comes into\n",
      "the neighbourhood.\"\n",
      "\n",
      "\"It is more than I engage for, I assure you.\"\n",
      "\n",
      "\"But consider your daughters. Only think what an establishment it would\n",
      "be for one of them. Sir William and Lady Lucas are determined to go,\n",
      "merely on that account, for in general you know they visit no new\n",
      "comers. Indeed you must go, for it will be impossible for _us_ to visit\n",
      "him, if you do not.\"\n",
      "\n",
      "\"You are over scrupulous surely. I dare say Mr. Bingley will be very\n",
      "glad to see you; and I will send a few lines by you to assure him of my\n",
      "hearty consent to his marrying which ever he chuses of the girls; though\n",
      "I must throw in a good word for my little Lizzy.\"\n",
      "\n",
      "\"I desire you will do no such thing. Lizzy is not a bit better than the\n",
      "others; and I am sure she is not half so handsome as Jane, nor half so\n",
      "good humoured as Lydia. But you are always giving _her_ the\n",
      "preference.\"\n",
      "\n",
      "\"They have none of them much to recommend them,\" replied he; \"they are\n",
      "all silly and ignorant like other girls; but Lizzy has something more of\n",
      "quickness than her sisters.\"\n",
      "\n",
      "\"Mr. Bennet, how can you abuse your own children in such a way? You take\n",
      "delight in vexing me. You have no compassion on my poor nerves.\"\n",
      "\n",
      "\"You mistake me, my dear. I have a high respect for your nerves. They\n",
      "are my old friends. I have heard you mention them with consideration\n",
      "these twenty years at least.\"\n",
      "\n",
      "\"Ah! you do not know what I suffer.\"\n",
      "\n",
      "\"But I hope you will get over it, and live to see many young men of four\n",
      "thousand a year come into the neighbourhood.\"\n",
      "\n",
      "\"It will be no use to us, if twenty such should come since you will not\n",
      "visit them.\"\n",
      "\n",
      "\"Depend upon it, my dear, that when there are twenty, I will visit them\n",
      "all.\"\n",
      "\n",
      "Mr. Bennet was so odd a mixture of quick parts, sarcastic humour,\n",
      "reserve, and caprice, that the experience of three and twenty years had\n",
      "been insufficient to make his wife understand his character. _Her_ mind\n",
      "was less difficult to develope. She was a woman of mean understanding,\n",
      "little information, and uncertain temper. When she was discontented she\n",
      "fancied herself nervous. The business of her life was to get her\n",
      "daughters married; its solace was visiting and news.\n",
      "\n",
      "\n",
      "\n",
      "\n"
     ]
    }
   ],
   "source": [
    "print(Chapter1)"
   ]
  },
  {
   "cell_type": "code",
   "execution_count": 11,
   "id": "0eb11ff3-481d-4b8a-8917-39ed34bf5d13",
   "metadata": {},
   "outputs": [],
   "source": [
    "ReplaceChp1 = Chapter1.replace(\"\\n\", ' ')\n",
    "ExtraChp1 = ReplaceChp1.strip()\n",
    "SplitChp1 = ExtraChp1.split(' ')\n",
    "\n",
    "countP = 0\n",
    "countEmpty = 0\n",
    "\n",
    "for i in range(len(SplitChp1)):\n",
    "    if len(SplitChp1[i]) > 0:\n",
    "        countP += 1\n",
    "    else:\n",
    "        countEmpty += 1"
   ]
  },
  {
   "cell_type": "code",
   "execution_count": 12,
   "id": "c6234d3f-212c-4769-87de-734038f58f2c",
   "metadata": {},
   "outputs": [
    {
     "name": "stdout",
     "output_type": "stream",
     "text": [
      "There are 857 words in the first chapter.\n"
     ]
    }
   ],
   "source": [
    "print(\"There are \" + str(countP) + \" words in the first chapter.\")"
   ]
  },
  {
   "cell_type": "markdown",
   "id": "37fb87b4-cbb1-4fbf-a0b4-8f6b5ce584f8",
   "metadata": {},
   "source": [
    "##### Count of Occurences of Words"
   ]
  },
  {
   "cell_type": "code",
   "execution_count": 13,
   "id": "4fe1819f-de45-4fcf-b0ea-fa81ab5b4ff6",
   "metadata": {},
   "outputs": [],
   "source": [
    "import string  \n",
    "mydict = {}\n",
    "\n",
    "text = Chapter1.lower()\n",
    "for keys in string.punctuation:\n",
    "       text = text.replace(keys,\"\")\n",
    "words = text.split()    \n",
    "\n",
    "for keys in words:\n",
    "    if keys in mydict:\n",
    "          mydict[keys] = mydict[keys] + 1\n",
    "    else:\n",
    "          mydict[keys] = 1"
   ]
  },
  {
   "cell_type": "code",
   "execution_count": 14,
   "id": "a8b61f06-6763-4818-aadc-b90684bf9f77",
   "metadata": {},
   "outputs": [
    {
     "data": {
      "text/plain": [
       "857"
      ]
     },
     "execution_count": 14,
     "metadata": {},
     "output_type": "execute_result"
    }
   ],
   "source": [
    "sum(mydict.values())"
   ]
  },
  {
   "cell_type": "markdown",
   "id": "2383546c-894e-49d8-adaa-4fca6d650d9d",
   "metadata": {},
   "source": [
    "Lastly, write a for loop to print out the first 20 key/value pairs in your dictionary"
   ]
  },
  {
   "cell_type": "code",
   "execution_count": 15,
   "id": "ed556158-2a79-4dfd-9499-4fd1a66c718a",
   "metadata": {},
   "outputs": [
    {
     "data": {
      "text/plain": [
       "{'chapter': 1,\n",
       " 'i': 18,\n",
       " 'it': 14,\n",
       " 'is': 14,\n",
       " 'a': 21,\n",
       " 'truth': 2,\n",
       " 'universally': 1,\n",
       " 'acknowledged': 1,\n",
       " 'that': 15,\n",
       " 'single': 4,\n",
       " 'man': 4,\n",
       " 'in': 12,\n",
       " 'possession': 2,\n",
       " 'of': 29,\n",
       " 'good': 3,\n",
       " 'fortune': 3,\n",
       " 'must': 7,\n",
       " 'be': 11,\n",
       " 'want': 3,\n",
       " 'wife': 4}"
      ]
     },
     "execution_count": 15,
     "metadata": {},
     "output_type": "execute_result"
    }
   ],
   "source": [
    "output = dict(list(mydict.items())[0:20])\n",
    "#for i in mydict.keys():\n",
    "#    print(i, \":\" ,mydict[i])\n",
    "output"
   ]
  }
 ],
 "metadata": {
  "kernelspec": {
   "display_name": "Python 3 (ipykernel)",
   "language": "python",
   "name": "python3"
  },
  "language_info": {
   "codemirror_mode": {
    "name": "ipython",
    "version": 3
   },
   "file_extension": ".py",
   "mimetype": "text/x-python",
   "name": "python",
   "nbconvert_exporter": "python",
   "pygments_lexer": "ipython3",
   "version": "3.9.7"
  }
 },
 "nbformat": 4,
 "nbformat_minor": 5
}
