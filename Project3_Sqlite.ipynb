{
 "cells": [
  {
   "cell_type": "markdown",
   "id": "c6375a8c-965b-41cf-a417-dcdb08bcd6c0",
   "metadata": {},
   "source": [
    "## Project 3\n",
    "\n",
    "Creatied a several simple sqlite databases in python, created a table for inputting data, join those tables and select queries.\n",
    "\n",
    "I completed a sql course using Azure Data Studio interface.  Our professor, Dr. Douglas Kline https://www.youtube.com/databasebydoug provided a DB server for the class to log in and access in order to complete the assignments. \n",
    "\n",
    "It seems easier to read sql queries using python and immediately begin analyzing the data."
   ]
  },
  {
   "cell_type": "code",
   "execution_count": 1,
   "id": "9b6540b2-d67d-48ec-817d-3103e038cfd8",
   "metadata": {},
   "outputs": [],
   "source": [
    "import sqlite3\n",
    "import pandas as pd\n",
    "\n",
    "# create new database namedmyMusic\n",
    "conn = sqlite3.connect('myMusic.db')\n",
    "curs = conn.cursor()\n",
    "\n",
    "# create new table (and check to make sure table does not exist with the same name)\n",
    "# within myMusic named artist\n",
    "curs.execute(\"\"\"CREATE TABLE IF NOT EXISTS tbl_artist (\n",
    "                artist_name text PRIMARY KEY,\n",
    "                genre  text,\n",
    "                song text);\n",
    "            \"\"\")\n",
    "\n",
    "#commit the changes \n",
    "conn.commit()\n"
   ]
  },
  {
   "cell_type": "code",
   "execution_count": 2,
   "id": "31d294f8-c438-40ee-b067-75093d5fff2a",
   "metadata": {},
   "outputs": [],
   "source": [
    "#Create a second table within the database named fanInfo\n",
    "curs.execute(\"\"\"CREATE TABLE IF NOT EXISTS tbl_info (\n",
    "                artist_ID text PRIMARY KEY,\n",
    "                dob  text,\n",
    "                married text,\n",
    "                albumSales int);\n",
    "            \"\"\")\n",
    "#commit the changes \n",
    "conn.commit()"
   ]
  },
  {
   "cell_type": "code",
   "execution_count": 3,
   "id": "5c5fb743-2253-4e7b-865a-05907d226358",
   "metadata": {},
   "outputs": [
    {
     "name": "stdout",
     "output_type": "stream",
     "text": [
      "[('tbl_artist',), ('tbl_info',)]\n"
     ]
    }
   ],
   "source": [
    "#Check that it worked\n",
    "check = '''\n",
    "        SELECT name\n",
    "        FROM sqlite_schema\n",
    "        WHERE type = \"table\";\n",
    "        '''\n",
    "print(curs.execute(check).fetchall())"
   ]
  },
  {
   "cell_type": "code",
   "execution_count": 4,
   "id": "99fac359-e92b-4fcf-ab00-477e3ad41a84",
   "metadata": {},
   "outputs": [],
   "source": [
    "# create list of artists to add to artist table; \n",
    "list_artist = [\n",
    "                    ('Prince', 'Rock', 'Sign of the Times'),\n",
    "                    ('Soundgarden', 'Alternative', 'My Wave'),\n",
    "                    ('Public Enemy', 'Rap', 'Everything'),\n",
    "                    ('Alice in Chains', 'Alternative', 'Heaven Beside You'),\n",
    "                    ('Marvin Gaye', 'RB/Soul', 'Whats Going On'),\n",
    "                    ('Aretha Franklin', 'RB/Soul', 'Aint No Way')\n",
    "                ]\n"
   ]
  },
  {
   "cell_type": "code",
   "execution_count": 5,
   "id": "2715259e-d7ae-46aa-90fe-38f74a04dc56",
   "metadata": {},
   "outputs": [],
   "source": [
    "curs.executemany(\"INSERT INTO tbl_artist VALUES(?,?,?);\", list_artist)\n",
    "conn.commit()"
   ]
  },
  {
   "cell_type": "code",
   "execution_count": 6,
   "id": "fb44d6b6-5d62-4da6-b93b-321edfcd2a62",
   "metadata": {},
   "outputs": [],
   "source": [
    "artist_info = [\n",
    "                    ('Prince', '06/07/1958', 'N', '15000000'),\n",
    "                    ('Soundgarden', '07/20/1964', 'N', '14800000'),\n",
    "                    ('Public Enemy', '08/01/1960', 'N', '4900000'),\n",
    "                    ('Alice in Chains', '08/22/1967', 'N', '14000000'),\n",
    "                    ('Marvin Gaye', '04/02/1939', 'N', '12300000'),\n",
    "                    ('Aretha Franklin', '03/25/1942', 'N', '75000000')\n",
    "                ]\n",
    "    \n",
    "    "
   ]
  },
  {
   "cell_type": "code",
   "execution_count": 7,
   "id": "9fc0c732-964b-44bb-bc58-2e33588ddb82",
   "metadata": {},
   "outputs": [
    {
     "data": {
      "text/plain": [
       "<sqlite3.Cursor at 0x23a6fd9b880>"
      ]
     },
     "execution_count": 7,
     "metadata": {},
     "output_type": "execute_result"
    }
   ],
   "source": [
    "conn.executemany(\"INSERT INTO tbl_info VALUES(?,?,?,?);\", artist_info)"
   ]
  },
  {
   "cell_type": "code",
   "execution_count": 8,
   "id": "693a1f21-1274-4724-8452-ca018e0674f4",
   "metadata": {},
   "outputs": [
    {
     "data": {
      "text/plain": [
       "<sqlite3.Cursor at 0x23a6fd9b0a0>"
      ]
     },
     "execution_count": 8,
     "metadata": {},
     "output_type": "execute_result"
    }
   ],
   "source": [
    "# I didn't quite this out.  the date of birth added to the db is for the lead singer. So, we will update \n",
    "# info table with the name of the lead singer and leave it blank if the artist sings solo.\n",
    "\n",
    "curs.execute(\"\"\"ALTER TABLE tbl_info ADD COLUMN lead\n",
    "           \"\"\")\n"
   ]
  },
  {
   "cell_type": "code",
   "execution_count": 9,
   "id": "8060f72d-0f91-45d8-bcb5-3dc2186f2b87",
   "metadata": {},
   "outputs": [],
   "source": [
    "conn.execute(\"UPDATE tbl_info SET lead = 'Chris Cornell' WHERE artist_ID = 'Soundgarden'\")\n",
    "conn.execute(\"UPDATE tbl_info SET lead = 'Chuck D' WHERE artist_ID = 'Public Enemy'\")\n",
    "conn.execute(\"UPDATE tbl_info SET lead = 'Layne Staley' WHERE artist_ID = 'Alice in Chains'\")\n",
    "\n",
    "#commit the changes \n",
    "conn.commit()"
   ]
  },
  {
   "cell_type": "code",
   "execution_count": 10,
   "id": "019f4f7e-8a2b-474b-8cd5-13fcf977a28a",
   "metadata": {},
   "outputs": [
    {
     "data": {
      "text/html": [
       "<div>\n",
       "<style scoped>\n",
       "    .dataframe tbody tr th:only-of-type {\n",
       "        vertical-align: middle;\n",
       "    }\n",
       "\n",
       "    .dataframe tbody tr th {\n",
       "        vertical-align: top;\n",
       "    }\n",
       "\n",
       "    .dataframe thead th {\n",
       "        text-align: right;\n",
       "    }\n",
       "</style>\n",
       "<table border=\"1\" class=\"dataframe\">\n",
       "  <thead>\n",
       "    <tr style=\"text-align: right;\">\n",
       "      <th></th>\n",
       "      <th>type</th>\n",
       "      <th>name</th>\n",
       "      <th>tbl_name</th>\n",
       "      <th>rootpage</th>\n",
       "      <th>sql</th>\n",
       "    </tr>\n",
       "  </thead>\n",
       "  <tbody>\n",
       "    <tr>\n",
       "      <th>0</th>\n",
       "      <td>table</td>\n",
       "      <td>tbl_artist</td>\n",
       "      <td>tbl_artist</td>\n",
       "      <td>2</td>\n",
       "      <td>CREATE TABLE tbl_artist (\\n                art...</td>\n",
       "    </tr>\n",
       "    <tr>\n",
       "      <th>1</th>\n",
       "      <td>table</td>\n",
       "      <td>tbl_info</td>\n",
       "      <td>tbl_info</td>\n",
       "      <td>4</td>\n",
       "      <td>CREATE TABLE tbl_info (\\n                artis...</td>\n",
       "    </tr>\n",
       "  </tbody>\n",
       "</table>\n",
       "</div>"
      ],
      "text/plain": [
       "    type        name    tbl_name  rootpage  \\\n",
       "0  table  tbl_artist  tbl_artist         2   \n",
       "1  table    tbl_info    tbl_info         4   \n",
       "\n",
       "                                                 sql  \n",
       "0  CREATE TABLE tbl_artist (\\n                art...  \n",
       "1  CREATE TABLE tbl_info (\\n                artis...  "
      ]
     },
     "execution_count": 10,
     "metadata": {},
     "output_type": "execute_result"
    }
   ],
   "source": [
    "# review the tables in myMusic\n",
    "pd.read_sql(\"SELECT * FROM sqlite_schema WHERE type = 'table';\", conn)"
   ]
  },
  {
   "cell_type": "code",
   "execution_count": 11,
   "id": "af38b0dc-167b-44ff-b6e1-fbf8acd77658",
   "metadata": {},
   "outputs": [
    {
     "data": {
      "text/html": [
       "<div>\n",
       "<style scoped>\n",
       "    .dataframe tbody tr th:only-of-type {\n",
       "        vertical-align: middle;\n",
       "    }\n",
       "\n",
       "    .dataframe tbody tr th {\n",
       "        vertical-align: top;\n",
       "    }\n",
       "\n",
       "    .dataframe thead th {\n",
       "        text-align: right;\n",
       "    }\n",
       "</style>\n",
       "<table border=\"1\" class=\"dataframe\">\n",
       "  <thead>\n",
       "    <tr style=\"text-align: right;\">\n",
       "      <th></th>\n",
       "      <th>artist_name</th>\n",
       "      <th>genre</th>\n",
       "      <th>song</th>\n",
       "    </tr>\n",
       "  </thead>\n",
       "  <tbody>\n",
       "    <tr>\n",
       "      <th>0</th>\n",
       "      <td>Prince</td>\n",
       "      <td>Rock</td>\n",
       "      <td>Sign of the Times</td>\n",
       "    </tr>\n",
       "    <tr>\n",
       "      <th>1</th>\n",
       "      <td>Soundgarden</td>\n",
       "      <td>Alternative</td>\n",
       "      <td>My Wave</td>\n",
       "    </tr>\n",
       "    <tr>\n",
       "      <th>2</th>\n",
       "      <td>Public Enemy</td>\n",
       "      <td>Rap</td>\n",
       "      <td>Everything</td>\n",
       "    </tr>\n",
       "    <tr>\n",
       "      <th>3</th>\n",
       "      <td>Alice in Chains</td>\n",
       "      <td>Alternative</td>\n",
       "      <td>Heaven Beside You</td>\n",
       "    </tr>\n",
       "    <tr>\n",
       "      <th>4</th>\n",
       "      <td>Marvin Gaye</td>\n",
       "      <td>RB/Soul</td>\n",
       "      <td>Whats Going On</td>\n",
       "    </tr>\n",
       "    <tr>\n",
       "      <th>5</th>\n",
       "      <td>Aretha Franklin</td>\n",
       "      <td>RB/Soul</td>\n",
       "      <td>Aint No Way</td>\n",
       "    </tr>\n",
       "  </tbody>\n",
       "</table>\n",
       "</div>"
      ],
      "text/plain": [
       "       artist_name        genre               song\n",
       "0           Prince         Rock  Sign of the Times\n",
       "1      Soundgarden  Alternative            My Wave\n",
       "2     Public Enemy          Rap         Everything\n",
       "3  Alice in Chains  Alternative  Heaven Beside You\n",
       "4      Marvin Gaye      RB/Soul     Whats Going On\n",
       "5  Aretha Franklin      RB/Soul        Aint No Way"
      ]
     },
     "execution_count": 11,
     "metadata": {},
     "output_type": "execute_result"
    }
   ],
   "source": [
    "#display information in tbl_artist\n",
    "pd.read_sql(\"SELECT artist_Name, genre, song FROM tbl_artist LIMIT 10;\", conn)           "
   ]
  },
  {
   "cell_type": "code",
   "execution_count": 12,
   "id": "d5ee5825-0634-4696-8027-07f2237ea9a8",
   "metadata": {},
   "outputs": [
    {
     "data": {
      "text/html": [
       "<div>\n",
       "<style scoped>\n",
       "    .dataframe tbody tr th:only-of-type {\n",
       "        vertical-align: middle;\n",
       "    }\n",
       "\n",
       "    .dataframe tbody tr th {\n",
       "        vertical-align: top;\n",
       "    }\n",
       "\n",
       "    .dataframe thead th {\n",
       "        text-align: right;\n",
       "    }\n",
       "</style>\n",
       "<table border=\"1\" class=\"dataframe\">\n",
       "  <thead>\n",
       "    <tr style=\"text-align: right;\">\n",
       "      <th></th>\n",
       "      <th>artist_name</th>\n",
       "      <th>genre</th>\n",
       "      <th>dob</th>\n",
       "    </tr>\n",
       "  </thead>\n",
       "  <tbody>\n",
       "    <tr>\n",
       "      <th>0</th>\n",
       "      <td>Soundgarden</td>\n",
       "      <td>Alternative</td>\n",
       "      <td>07/20/1964</td>\n",
       "    </tr>\n",
       "    <tr>\n",
       "      <th>1</th>\n",
       "      <td>Public Enemy</td>\n",
       "      <td>Rap</td>\n",
       "      <td>08/01/1960</td>\n",
       "    </tr>\n",
       "    <tr>\n",
       "      <th>2</th>\n",
       "      <td>Alice in Chains</td>\n",
       "      <td>Alternative</td>\n",
       "      <td>08/22/1967</td>\n",
       "    </tr>\n",
       "  </tbody>\n",
       "</table>\n",
       "</div>"
      ],
      "text/plain": [
       "       artist_name        genre         dob\n",
       "0      Soundgarden  Alternative  07/20/1964\n",
       "1     Public Enemy          Rap  08/01/1960\n",
       "2  Alice in Chains  Alternative  08/22/1967"
      ]
     },
     "execution_count": 12,
     "metadata": {},
     "output_type": "execute_result"
    }
   ],
   "source": [
    "# Join tbl artist and info and complete a simple query\n",
    "# This format is similar to regular SQL\n",
    "pd.read_sql(\"SELECT  artist_Name, genre, dob \\\n",
    "            FROM tbl_artist \\\n",
    "            LEFT JOIN tbl_info ON \\\n",
    "            tbl_artist.artist_Name = tbl_info.artist_ID \\\n",
    "            WHERE lead IS NOT NULL;\", conn)"
   ]
  },
  {
   "cell_type": "code",
   "execution_count": 13,
   "id": "a3237806-497b-43f0-a1a2-2651dd1e279f",
   "metadata": {},
   "outputs": [
    {
     "data": {
      "text/html": [
       "<div>\n",
       "<style scoped>\n",
       "    .dataframe tbody tr th:only-of-type {\n",
       "        vertical-align: middle;\n",
       "    }\n",
       "\n",
       "    .dataframe tbody tr th {\n",
       "        vertical-align: top;\n",
       "    }\n",
       "\n",
       "    .dataframe thead th {\n",
       "        text-align: right;\n",
       "    }\n",
       "</style>\n",
       "<table border=\"1\" class=\"dataframe\">\n",
       "  <thead>\n",
       "    <tr style=\"text-align: right;\">\n",
       "      <th></th>\n",
       "      <th>artist_name</th>\n",
       "      <th>genre</th>\n",
       "    </tr>\n",
       "  </thead>\n",
       "  <tbody>\n",
       "    <tr>\n",
       "      <th>0</th>\n",
       "      <td>Aretha Franklin</td>\n",
       "      <td>RB/Soul</td>\n",
       "    </tr>\n",
       "  </tbody>\n",
       "</table>\n",
       "</div>"
      ],
      "text/plain": [
       "       artist_name    genre\n",
       "0  Aretha Franklin  RB/Soul"
      ]
     },
     "execution_count": 13,
     "metadata": {},
     "output_type": "execute_result"
    }
   ],
   "source": [
    "pd.read_sql(\"SELECT  artist_Name, genre \\\n",
    "            FROM tbl_artist \\\n",
    "            LEFT JOIN tbl_info ON \\\n",
    "            tbl_artist.artist_Name = tbl_info.artist_ID \\\n",
    "            WHERE albumSales >15000000;\", conn)"
   ]
  },
  {
   "cell_type": "code",
   "execution_count": 14,
   "id": "99675a89-fc88-4440-b1cc-2fa4e6fcdd6e",
   "metadata": {},
   "outputs": [],
   "source": [
    "#close db\n",
    "conn.close()"
   ]
  },
  {
   "cell_type": "code",
   "execution_count": null,
   "id": "27dc3d6c-4f69-4fd4-a244-b4ae8828da0d",
   "metadata": {},
   "outputs": [],
   "source": []
  }
 ],
 "metadata": {
  "kernelspec": {
   "display_name": "Python 3 (ipykernel)",
   "language": "python",
   "name": "python3"
  },
  "language_info": {
   "codemirror_mode": {
    "name": "ipython",
    "version": 3
   },
   "file_extension": ".py",
   "mimetype": "text/x-python",
   "name": "python",
   "nbconvert_exporter": "python",
   "pygments_lexer": "ipython3",
   "version": "3.9.7"
  }
 },
 "nbformat": 4,
 "nbformat_minor": 5
}
